{
 "cells": [
  {
   "cell_type": "markdown",
   "metadata": {},
   "source": [
    "### Задание 1"
   ]
  },
  {
   "cell_type": "markdown",
   "metadata": {},
   "source": [
    "Скачайте с сайта https://grouplens.org/datasets/movielens/ датасет любого размера. Определите какому фильму было выставлено больше всего оценок 5.0."
   ]
  },
  {
   "cell_type": "code",
   "execution_count": 4,
   "metadata": {},
   "outputs": [],
   "source": [
    "import pandas as pd"
   ]
  },
  {
   "cell_type": "code",
   "execution_count": 70,
   "metadata": {},
   "outputs": [
    {
     "name": "stderr",
     "output_type": "stream",
     "text": [
      "<ipython-input-70-603b4a40dfa5>:1: ParserWarning: Falling back to the 'python' engine because the 'c' engine does not support regex separators (separators > 1 char and different from '\\s+' are interpreted as regex); you can avoid this warning by specifying engine='python'.\n",
      "  data_r = pd.read_csv('ratings.dat', sep= '::', header =None)\n"
     ]
    }
   ],
   "source": [
    "data_r = pd.read_csv('ratings.dat', sep= '::', header =None)\n",
    "data_w = pd.read_csv('movies.dat', sep= '::', header =None)"
   ]
  },
  {
   "cell_type": "code",
   "execution_count": 169,
   "metadata": {},
   "outputs": [
    {
     "name": "stdout",
     "output_type": "stream",
     "text": [
      "Самое большое кол-во оценок 5 выставлено фильму: American Beauty (1999)    1963\n",
      "Name: film_name, dtype: int64\n"
     ]
    }
   ],
   "source": [
    "# подготовили данные\n",
    "\n",
    "data_r['film_id'] = data[2]\n",
    "data_r['rating'] = data[4]\n",
    "rating_data = data_r[['film_id', 'rating']]\n",
    "#print(rating_data.info())\n",
    "\n",
    "data_w['film_id'] = data_w[0]\n",
    "data_w['film_name'] = data_w[1]\n",
    "film_info_data = data_w[['film_id', 'film_name']]\n",
    "#print(film_info_data.info())\n",
    "\n",
    "joined = data_r.merge(data_w, on='film_id', how='left')\n",
    "data_final = joined[['film_id','rating','film_name']]\n",
    "\n",
    "data_final.head()\n",
    "\n",
    "# нашли фильм с наибольшим кол-во 5 \n",
    "film_w_five = data_final[data_final.rating>=5]\n",
    "id_film = film_w_five['film_name'].value_counts().head(1)\n",
    "id_film.head()\n",
    "\n",
    "print(f'Самое большое кол-во оценок 5 выставлено фильму: {id_film.head()}')"
   ]
  },
  {
   "cell_type": "markdown",
   "metadata": {},
   "source": [
    "### Задание 2"
   ]
  },
  {
   "cell_type": "markdown",
   "metadata": {},
   "source": [
    "По данным файла power.csv посчитайте суммарное потребление стран Прибалтики (Латвия, Литва и Эстония) категорий 4, 12 и 21 за период с 2005 по 2010 года. Не учитывайте в расчетах отрицательные значения quantity."
   ]
  },
  {
   "cell_type": "code",
   "execution_count": 208,
   "metadata": {},
   "outputs": [
    {
     "name": "stdout",
     "output_type": "stream",
     "text": [
      "240580.0\n"
     ]
    }
   ],
   "source": [
    "data_energy = pd.read_csv('power.csv')\n",
    "final_data_energy_info = data_energy[\n",
    "            ((data_energy['country']=='Latvia')|\n",
    "             (data_energy['country']=='Estonia')|\n",
    "             (data_energy['country']=='Lithuania'))&\n",
    "    \n",
    "            ((data_energy['year']>=2005)&(data_energy['year']<=2010))&\n",
    "    \n",
    "            ((data_energy['category']==4)|\n",
    "             (data_energy['category']==12)|\n",
    "             (data_energy['category']==21))&\n",
    "    \n",
    "            ((data_energy['quantity']>0))\n",
    "                ]\n",
    "final_sum = 0\n",
    "for i in list(final_data_energy_info['quantity']):\n",
    "    final_sum += i\n",
    "print(final_sum)"
   ]
  },
  {
   "cell_type": "markdown",
   "metadata": {},
   "source": [
    "### Задание 3"
   ]
  },
  {
   "cell_type": "code",
   "execution_count": 221,
   "metadata": {},
   "outputs": [],
   "source": [
    "data_html = pd.read_html('https://www.finanz.ru/valyuty/v-realnom-vremeni')[0]"
   ]
  },
  {
   "cell_type": "code",
   "execution_count": 222,
   "metadata": {},
   "outputs": [
    {
     "data": {
      "text/html": [
       "<div>\n",
       "<style scoped>\n",
       "    .dataframe tbody tr th:only-of-type {\n",
       "        vertical-align: middle;\n",
       "    }\n",
       "\n",
       "    .dataframe tbody tr th {\n",
       "        vertical-align: top;\n",
       "    }\n",
       "\n",
       "    .dataframe thead th {\n",
       "        text-align: right;\n",
       "    }\n",
       "</style>\n",
       "<table border=\"1\" class=\"dataframe\">\n",
       "  <thead>\n",
       "    <tr style=\"text-align: right;\">\n",
       "      <th></th>\n",
       "      <th>0</th>\n",
       "      <th>1</th>\n",
       "      <th>2</th>\n",
       "      <th>3</th>\n",
       "      <th>4</th>\n",
       "      <th>5</th>\n",
       "      <th>6</th>\n",
       "      <th>7</th>\n",
       "      <th>8</th>\n",
       "      <th>9</th>\n",
       "      <th>10</th>\n",
       "      <th>11</th>\n",
       "    </tr>\n",
       "  </thead>\n",
       "  <tbody>\n",
       "    <tr>\n",
       "      <th>0</th>\n",
       "      <td>аааа</td>\n",
       "      <td>3Т 371</td>\n",
       "      <td>0,4%</td>\n",
       "      <td>Nasdaq</td>\n",
       "      <td>12Т 741</td>\n",
       "      <td>-0,6%</td>\n",
       "      <td>ааИбаКаОаЙаН</td>\n",
       "      <td>37Т 305</td>\n",
       "      <td>1,2%</td>\n",
       "      <td>USD/RUB</td>\n",
       "      <td>739909</td>\n",
       "      <td>0,1%</td>\n",
       "    </tr>\n",
       "    <tr>\n",
       "      <th>1</th>\n",
       "      <td>а аЂаЁ</td>\n",
       "      <td>1Т 437</td>\n",
       "      <td>0,7%</td>\n",
       "      <td>S&amp;P500</td>\n",
       "      <td>3Т 748</td>\n",
       "      <td>0,6%</td>\n",
       "      <td>ааЕббб</td>\n",
       "      <td>547</td>\n",
       "      <td>1,1%</td>\n",
       "      <td>EUR/RUB</td>\n",
       "      <td>913985</td>\n",
       "      <td>0,3%</td>\n",
       "    </tr>\n",
       "    <tr>\n",
       "      <th>2</th>\n",
       "      <td>Dow</td>\n",
       "      <td>30Т 829</td>\n",
       "      <td>1,4%</td>\n",
       "      <td>FTSE100</td>\n",
       "      <td>6Т 842</td>\n",
       "      <td>3,5%</td>\n",
       "      <td>ааОаЛаОбаО</td>\n",
       "      <td>1Т 918</td>\n",
       "      <td>-0,1%</td>\n",
       "      <td>EUR/USD</td>\n",
       "      <td>12330</td>\n",
       "      <td>0,0%</td>\n",
       "    </tr>\n",
       "  </tbody>\n",
       "</table>\n",
       "</div>"
      ],
      "text/plain": [
       "         0        1     2        3        4      5               6        7   \\\n",
       "0  аааа   3Т 371  0,4%   Nasdaq  12Т 741  -0,6%  ааИбаКаОаЙаН  37Т 305   \n",
       "1    а аЂаЁ   1Т 437  0,7%   S&P500   3Т 748   0,6%      ааЕббб      547   \n",
       "2       Dow  30Т 829  1,4%  FTSE100   6Т 842   3,5%    ааОаЛаОбаО   1Т 918   \n",
       "\n",
       "      8        9       10    11  \n",
       "0   1,2%  USD/RUB  739909  0,1%  \n",
       "1   1,1%  EUR/RUB  913985  0,3%  \n",
       "2  -0,1%  EUR/USD   12330  0,0%  "
      ]
     },
     "execution_count": 222,
     "metadata": {},
     "output_type": "execute_result"
    }
   ],
   "source": [
    "data_html"
   ]
  },
  {
   "cell_type": "code",
   "execution_count": null,
   "metadata": {},
   "outputs": [],
   "source": []
  }
 ],
 "metadata": {
  "kernelspec": {
   "display_name": "Python 3",
   "language": "python",
   "name": "python3"
  },
  "language_info": {
   "codemirror_mode": {
    "name": "ipython",
    "version": 3
   },
   "file_extension": ".py",
   "mimetype": "text/x-python",
   "name": "python",
   "nbconvert_exporter": "python",
   "pygments_lexer": "ipython3",
   "version": "3.8.3"
  }
 },
 "nbformat": 4,
 "nbformat_minor": 4
}
